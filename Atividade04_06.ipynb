{
  "nbformat": 4,
  "nbformat_minor": 0,
  "metadata": {
    "colab": {
      "provenance": [],
      "authorship_tag": "ABX9TyNAwH0B3H3RQbOFegj7uXYL",
      "include_colab_link": true
    },
    "kernelspec": {
      "name": "python3",
      "display_name": "Python 3"
    },
    "language_info": {
      "name": "python"
    }
  },
  "cells": [
    {
      "cell_type": "markdown",
      "metadata": {
        "id": "view-in-github",
        "colab_type": "text"
      },
      "source": [
        "<a href=\"https://colab.research.google.com/github/italorodri39/Atividade04.06.2024/blob/main/Atividade04_06.ipynb\" target=\"_parent\"><img src=\"https://colab.research.google.com/assets/colab-badge.svg\" alt=\"Open In Colab\"/></a>"
      ]
    },
    {
      "cell_type": "code",
      "execution_count": null,
      "metadata": {
        "colab": {
          "base_uri": "https://localhost:8080/"
        },
        "id": "jRj_eG_deIzW",
        "outputId": "83b2b7cd-0e02-44d4-e17e-7070754ae3e8"
      },
      "outputs": [
        {
          "output_type": "stream",
          "name": "stdout",
          "text": [
            "Digite seu nome:\n"
          ]
        }
      ],
      "source": [
        "print (\"Digite seu nome:\")\n",
        "nome = input ()\n",
        "\n",
        "executar = True\n",
        "\n",
        "while (executar == True):\n",
        "     print (\"Ano de nascimento:\")\n",
        "     try:\n",
        "          ano = int(input())\n",
        "          if(ano < 1922) or (ano > 2021):\n",
        "               print(\"Necessário ser entre 1922 e 2021\")\n",
        "          else:\n",
        "               idade = 2022 - ano\n",
        "               print(\"Você\", nome, \"completou ou completará\", idade, \"anos de idade em 2022\")\n",
        "               executar = False\n",
        "     except:\n",
        "          print(\"Anos são permitidos apenas escritos em numeros\")"
      ]
    }
  ]
}